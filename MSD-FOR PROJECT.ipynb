{
 "cells": [
  {
   "cell_type": "code",
   "execution_count": 1,
   "metadata": {},
   "outputs": [
    {
     "name": "stderr",
     "output_type": "stream",
     "text": [
      "/home/aniruddha/anaconda3/lib/python3.7/site-packages/ipykernel_launcher.py:15: DuplicateWarning: AtomGroup.center_of_geometry(): 'dummy' <AtomGroup with 2 atoms> contains duplicates. Results might be biased!\n",
      "  from ipykernel import kernelapp as app\n",
      "/home/aniruddha/anaconda3/lib/python3.7/site-packages/ipykernel_launcher.py:17: DuplicateWarning: AtomGroup.center_of_geometry(): 'dummy' <AtomGroup with 2 atoms> contains duplicates. Results might be biased!\n",
      "/home/aniruddha/anaconda3/lib/python3.7/site-packages/ipykernel_launcher.py:19: DuplicateWarning: AtomGroup.center_of_geometry(): 'dummy' <AtomGroup with 2 atoms> contains duplicates. Results might be biased!\n",
      "/home/aniruddha/anaconda3/lib/python3.7/site-packages/ipykernel_launcher.py:22: DuplicateWarning: AtomGroup.center_of_geometry(): 'dummy' <AtomGroup with 2 atoms> contains duplicates. Results might be biased!\n"
     ]
    },
    {
     "ename": "NameError",
     "evalue": "name 'rt' is not defined",
     "output_type": "error",
     "traceback": [
      "\u001b[0;31m---------------------------------------------------------------------------\u001b[0m",
      "\u001b[0;31mNameError\u001b[0m                                 Traceback (most recent call last)",
      "\u001b[0;32m<ipython-input-1-669266b98735>\u001b[0m in \u001b[0;36m<module>\u001b[0;34m\u001b[0m\n\u001b[1;32m     20\u001b[0m         \u001b[0mmu\u001b[0m\u001b[0;34m=\u001b[0m\u001b[0mhw1c\u001b[0m\u001b[0;34m+\u001b[0m\u001b[0mhw2c\u001b[0m\u001b[0;34m-\u001b[0m\u001b[0;36m2\u001b[0m\u001b[0;34m*\u001b[0m\u001b[0moc\u001b[0m\u001b[0;34m\u001b[0m\u001b[0;34m\u001b[0m\u001b[0m\n\u001b[1;32m     21\u001b[0m         \u001b[0mmu\u001b[0m\u001b[0;34m=\u001b[0m\u001b[0mmu\u001b[0m\u001b[0;34m/\u001b[0m\u001b[0mnp\u001b[0m\u001b[0;34m.\u001b[0m\u001b[0mlinalg\u001b[0m\u001b[0;34m.\u001b[0m\u001b[0mnorm\u001b[0m\u001b[0;34m(\u001b[0m\u001b[0mmu\u001b[0m\u001b[0;34m)\u001b[0m\u001b[0;34m\u001b[0m\u001b[0;34m\u001b[0m\u001b[0m\n\u001b[0;32m---> 22\u001b[0;31m         \u001b[0mrt\u001b[0m\u001b[0;34m[\u001b[0m\u001b[0mi\u001b[0m\u001b[0;34m]\u001b[0m\u001b[0;34m=\u001b[0m\u001b[0mdummy\u001b[0m\u001b[0;34m.\u001b[0m\u001b[0mcenter_of_geometry\u001b[0m\u001b[0;34m(\u001b[0m\u001b[0;34m)\u001b[0m\u001b[0;34m;\u001b[0m\u001b[0;34m\u001b[0m\u001b[0;34m\u001b[0m\u001b[0m\n\u001b[0m\u001b[1;32m     23\u001b[0m     \u001b[0;32mif\u001b[0m \u001b[0mts\u001b[0m\u001b[0;34m.\u001b[0m\u001b[0mframe\u001b[0m\u001b[0;34m==\u001b[0m\u001b[0;36m0\u001b[0m\u001b[0;34m:\u001b[0m\u001b[0;34m\u001b[0m\u001b[0;34m\u001b[0m\u001b[0m\n\u001b[1;32m     24\u001b[0m         \u001b[0;32mfor\u001b[0m \u001b[0mi\u001b[0m \u001b[0;32min\u001b[0m \u001b[0mrange\u001b[0m\u001b[0;34m(\u001b[0m\u001b[0;36m0\u001b[0m\u001b[0;34m,\u001b[0m\u001b[0;36m884\u001b[0m\u001b[0;34m)\u001b[0m\u001b[0;34m:\u001b[0m\u001b[0;34m\u001b[0m\u001b[0;34m\u001b[0m\u001b[0m\n",
      "\u001b[0;31mNameError\u001b[0m: name 'rt' is not defined"
     ]
    }
   ],
   "source": [
    "import MDAnalysis as md\n",
    "import numpy as np \n",
    "u=md.Universe(\"/home/aniruddha/Desktop/Untitled Folder/frame_0.gro\",\"/home/aniruddha/Desktop/Untitled Folder/fittraj.xtc\")\n",
    "\n",
    "o=u.select_atoms(\"name OW\")#O AtomGroups\n",
    "hw1=u.select_atoms(\"name HW1\")#HW1 AtomGroups\n",
    "hw2=u.select_atoms(\"name HW2\")#HW2 AtomGroups\n",
    "mut=np.zeros((N,3))#Store R_i(t)\n",
    "muo=np.zeros((N,3))#Store R_0(t)\n",
    "msd=np.zeros((101))#Store MSD(t)\n",
    "mu=np.zeros((1,3))\n",
    "k=0\n",
    "for ts in u.trajectory:\n",
    "    for i in range(0,N):\n",
    "        dummy=o[i]+o[i]\n",
    "        oc=dummy.center_of_geometry()\n",
    "        dummy=hw1[i]+hw1[i]\n",
    "        hw1c=dummy.center_of_geometry()\n",
    "        dummy=hw2[i]+hw2[i]\n",
    "        hw2c=dummy.center_of_geometry()\n",
    "        mu=hw1c+hw2c-2*oc\n",
    "        mu=mu/np.linalg.norm(mu)\n",
    "        rt[i]=dummy.center_of_geometry();\n",
    "    if ts.frame==0:\n",
    "        for i in range(0,884):\n",
    "            ro[i]=rt[i]\n",
    "    for i in range(0,884):\n",
    "        vmsd=rt[i]-ro[i]\n",
    "        msd[k]=msd[k]+np.linalg.norm(vmsd)\n",
    "    k=k+1\n",
    "for i in range(0,101):\n",
    "    msd[i]=msd[i]/100;\n",
    "x=np.zeros((54000))\n",
    "for i in range(0,54000):\n",
    "    x[i]=i\n",
    "ax = plt.subplot(111)\n",
    "ax.plot(x,corr)\n",
    "plt.axis([0,54000,-0.25,1])\n",
    "ax.set_xlabel(\"time step\")\n",
    "ax.set_ylabel(\"Mean Square Displacement\")\n",
    "ax.figure.savefig(\"OTCF_resid_XXXX.pdf\")\n",
    "plt.draw()\n",
    "#Least Square Fitting\n",
    "avx=0\n",
    "avy=0\n",
    "for i in range(0,101):\n",
    "    avx=avx+i\n",
    "    avy=avy+msd[i]\n",
    "avx=avx/100\n",
    "avy=avy/100\n",
    "m=0#Slope of the graph\n",
    "k=0\n",
    "for t in range(0,101):\n",
    "    m=m+(t-avx)*(msd[t]-avy)\n",
    "    k=k+((t-avx)**2)\n",
    "m=m/k\n",
    "print(m/6)"
   ]
  },
  {
   "cell_type": "code",
   "execution_count": 4,
   "metadata": {},
   "outputs": [
    {
     "data": {
      "text/plain": [
       "2.302585092994046"
      ]
     },
     "execution_count": 4,
     "metadata": {},
     "output_type": "execute_result"
    }
   ],
   "source": [
    "import math\n",
    "math.log(10)"
   ]
  },
  {
   "cell_type": "code",
   "execution_count": 8,
   "metadata": {},
   "outputs": [
    {
     "data": {
      "text/plain": [
       "<Universe with 2652 atoms>"
      ]
     },
     "execution_count": 8,
     "metadata": {},
     "output_type": "execute_result"
    }
   ],
   "source": [
    "i=0\n",
    "    x=0\n",
    "    for i in range(0,2652,3):\n",
    "        o=u.trajectory.ts\n",
    "        rt[x]=o.positions[i]#Finding Position Vector\n",
    "        x=x+1\n",
    "    #Calculating Squared Displacement\n",
    "    for j in range(0,884):\n",
    "    if(j==0):\n",
    "            for u in range(0,884):\n",
    "                r0[u]=rt[u]\n",
    "        r=rt[j]-r0[j]\n",
    "        msd[k]=msd[k]+(np.linalg.norm(r)**2)\n",
    "    k=k+1\n",
    "avx=0\n",
    "avy=0\n",
    "for c in range(0,101):\n",
    "    msd[c]=msd[c]/n\n",
    "    avx=avx+c\n",
    "    avy=avy+msd[c]\n",
    "#Least Square Fitting\n",
    "avx=avx/n\n",
    "avy=avy/n\n",
    "m=0#Slope of the graph\n",
    "k=0\n",
    "for t in range(0,101):\n",
    "    m=m+(t-avx)*(msd[t]-avy)\n",
    "    k=k+((t-avg)**2)\n",
    "m=m/k\n",
    "print(m/6)"
   ]
  },
  {
   "cell_type": "code",
   "execution_count": 151,
   "metadata": {},
   "outputs": [
    {
     "ename": "AttributeError",
     "evalue": "AtomGroup has no attribute coor",
     "output_type": "error",
     "traceback": [
      "\u001b[0;31m---------------------------------------------------------------------------\u001b[0m",
      "\u001b[0;31mAttributeError\u001b[0m                            Traceback (most recent call last)",
      "\u001b[0;32m<ipython-input-151-b30d627f971b>\u001b[0m in \u001b[0;36m<module>\u001b[0;34m\u001b[0m\n\u001b[1;32m      1\u001b[0m \u001b[0mow\u001b[0m\u001b[0;34m=\u001b[0m\u001b[0mu\u001b[0m\u001b[0;34m.\u001b[0m\u001b[0mselect_atoms\u001b[0m\u001b[0;34m(\u001b[0m\u001b[0;34m\"name OW\"\u001b[0m\u001b[0;34m)\u001b[0m\u001b[0;34m\u001b[0m\u001b[0;34m\u001b[0m\u001b[0m\n\u001b[0;32m----> 2\u001b[0;31m \u001b[0mow\u001b[0m\u001b[0;34m.\u001b[0m\u001b[0mcoor\u001b[0m\u001b[0;34m.\u001b[0m\u001b[0mpositions\u001b[0m\u001b[0;34m\u001b[0m\u001b[0;34m\u001b[0m\u001b[0m\n\u001b[0m\u001b[1;32m      3\u001b[0m \u001b[0;31m#ow[1]\u001b[0m\u001b[0;34m\u001b[0m\u001b[0;34m\u001b[0m\u001b[0;34m\u001b[0m\u001b[0m\n\u001b[1;32m      4\u001b[0m \u001b[0;31m#m=u.select_atoms(\"resid 1\")\u001b[0m\u001b[0;34m\u001b[0m\u001b[0;34m\u001b[0m\u001b[0;34m\u001b[0m\u001b[0m\n\u001b[1;32m      5\u001b[0m \u001b[0;31m#print(m)\u001b[0m\u001b[0;34m\u001b[0m\u001b[0;34m\u001b[0m\u001b[0;34m\u001b[0m\u001b[0m\n",
      "\u001b[0;32m~/anaconda3/lib/python3.7/site-packages/MDAnalysis/core/groups.py\u001b[0m in \u001b[0;36m__getattr__\u001b[0;34m(self, attr)\u001b[0m\n\u001b[1;32m   1821\u001b[0m                 \u001b[0;32mpass\u001b[0m\u001b[0;34m\u001b[0m\u001b[0;34m\u001b[0m\u001b[0m\n\u001b[1;32m   1822\u001b[0m         raise AttributeError(\"{cls} has no attribute {attr}\".format(\n\u001b[0;32m-> 1823\u001b[0;31m             cls=self.__class__.__name__, attr=attr))\n\u001b[0m\u001b[1;32m   1824\u001b[0m \u001b[0;34m\u001b[0m\u001b[0m\n\u001b[1;32m   1825\u001b[0m     \u001b[0;32mdef\u001b[0m \u001b[0m__reduce__\u001b[0m\u001b[0;34m(\u001b[0m\u001b[0mself\u001b[0m\u001b[0;34m)\u001b[0m\u001b[0;34m:\u001b[0m\u001b[0;34m\u001b[0m\u001b[0;34m\u001b[0m\u001b[0m\n",
      "\u001b[0;31mAttributeError\u001b[0m: AtomGroup has no attribute coor"
     ]
    }
   ],
   "source": [
    "ow=u.select_atoms(\"name OW\")\n",
    "ow.center_of_geometry\n",
    "#ow[1]\n",
    "#m=u.select_atoms(\"resid 1\")\n",
    "#print(m)"
   ]
  },
  {
   "cell_type": "code",
   "execution_count": 67,
   "metadata": {},
   "outputs": [
    {
     "data": {
      "text/plain": [
       "array([[ 6.59     , 11.72     , 16.390001 ],\n",
       "       [ 7.1800003, 12.33     , 15.960001 ],\n",
       "       [ 6.2300005, 12.22     , 17.130001 ],\n",
       "       ...,\n",
       "       [18.92     , 14.690001 ,  4.9900002],\n",
       "       [19.25     , 14.840001 ,  5.87     ],\n",
       "       [19.68     , 14.83     ,  4.42     ]], dtype=float32)"
      ]
     },
     "execution_count": 67,
     "metadata": {},
     "output_type": "execute_result"
    }
   ],
   "source": []
  },
  {
   "cell_type": "code",
   "execution_count": 88,
   "metadata": {},
   "outputs": [],
   "source": [
    "#for ts in u.trajectory:\n",
    "    #print(ts.frame)\n",
    "    #print(u.trajectory.ts)\n",
    "    #print(md.)\n",
    "    #print(u.trajectory.ts.positions)"
   ]
  },
  {
   "cell_type": "code",
   "execution_count": 168,
   "metadata": {},
   "outputs": [
    {
     "ename": "AttributeError",
     "evalue": "'int' object has no attribute 'trajectory'",
     "output_type": "error",
     "traceback": [
      "\u001b[0;31m---------------------------------------------------------------------------\u001b[0m",
      "\u001b[0;31mAttributeError\u001b[0m                            Traceback (most recent call last)",
      "\u001b[0;32m<ipython-input-168-4bee56c9c433>\u001b[0m in \u001b[0;36m<module>\u001b[0;34m\u001b[0m\n\u001b[0;32m----> 1\u001b[0;31m \u001b[0mts\u001b[0m\u001b[0;34m=\u001b[0m\u001b[0mu\u001b[0m\u001b[0;34m.\u001b[0m\u001b[0mtrajectory\u001b[0m\u001b[0;34m.\u001b[0m\u001b[0mts\u001b[0m\u001b[0;34m\u001b[0m\u001b[0;34m\u001b[0m\u001b[0m\n\u001b[0m\u001b[1;32m      2\u001b[0m \u001b[0mts\u001b[0m\u001b[0;34m.\u001b[0m\u001b[0mtime\u001b[0m\u001b[0;34m\u001b[0m\u001b[0;34m\u001b[0m\u001b[0m\n\u001b[1;32m      3\u001b[0m \u001b[0mts\u001b[0m\u001b[0;34m.\u001b[0m\u001b[0mn_atoms\u001b[0m\u001b[0;34m\u001b[0m\u001b[0;34m\u001b[0m\u001b[0m\n\u001b[1;32m      4\u001b[0m \u001b[0;31m#ts.frame\u001b[0m\u001b[0;34m\u001b[0m\u001b[0;34m\u001b[0m\u001b[0;34m\u001b[0m\u001b[0m\n\u001b[1;32m      5\u001b[0m \u001b[0mts\u001b[0m\u001b[0;34m.\u001b[0m\u001b[0mpositions\u001b[0m\u001b[0;34m[\u001b[0m\u001b[0;36m1\u001b[0m\u001b[0;34m]\u001b[0m\u001b[0;34m\u001b[0m\u001b[0;34m\u001b[0m\u001b[0m\n",
      "\u001b[0;31mAttributeError\u001b[0m: 'int' object has no attribute 'trajectory'"
     ]
    }
   ],
   "source": [
    "ts=u.trajectory.ts\n",
    "ts.time\n",
    "ts.n_atoms\n",
    "#ts.frame\n",
    "ts\n",
    ".positions[1]"
   ]
  },
  {
   "cell_type": "code",
   "execution_count": null,
   "metadata": {},
   "outputs": [],
   "source": [
    "o=u.select_atoms(\"name OW\")print(o)"
   ]
  }
 ],
 "metadata": {
  "kernelspec": {
   "display_name": "Python 3",
   "language": "python",
   "name": "python3"
  },
  "language_info": {
   "codemirror_mode": {
    "name": "ipython",
    "version": 3
   },
   "file_extension": ".py",
   "mimetype": "text/x-python",
   "name": "python",
   "nbconvert_exporter": "python",
   "pygments_lexer": "ipython3",
   "version": "3.7.3"
  }
 },
 "nbformat": 4,
 "nbformat_minor": 2
}
