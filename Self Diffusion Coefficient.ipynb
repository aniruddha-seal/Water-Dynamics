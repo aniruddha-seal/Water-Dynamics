{
 "cells": [
  {
   "cell_type": "code",
   "execution_count": 18,
   "metadata": {},
   "outputs": [
    {
     "ename": "SyntaxError",
     "evalue": "invalid syntax (<ipython-input-18-19dabdabdefb>, line 40)",
     "output_type": "error",
     "traceback": [
      "\u001b[0;36m  File \u001b[0;32m\"<ipython-input-18-19dabdabdefb>\"\u001b[0;36m, line \u001b[0;32m40\u001b[0m\n\u001b[0;31m    avx=0\u001b[0m\n\u001b[0m      ^\u001b[0m\n\u001b[0;31mSyntaxError\u001b[0m\u001b[0;31m:\u001b[0m invalid syntax\n"
     ]
    }
   ],
   "source": [
    "# The System has 884 Water Molecules\n",
    "# Has a total of 501 Time Steps dumped after 0.2 ps \n",
    "import MDAnalysis as md\n",
    "import numpy as np \n",
    "import matplotlib.pyplot as plt\n",
    "u=md.Universe(\"/home/aniruddha/Waterbox/md_1_1.gro\",\"/home/aniruddha/Waterbox/md_1_1nojump.xtc\")\n",
    "o=u.select_atoms(\"name OW\") #O AtomGroups\n",
    "hw1=u.select_atoms(\"name HW1\") #HW1 AtomGroups\n",
    "hw2=u.select_atoms(\"name HW2\") #HW2 AtomGroups\n",
    "#Array Size of rt r0 is the total number of water molecules\n",
    "tore R_i(t)\n",
    "ro=np.zeros((884))#Store R_0(t)\n",
    "msd=np.zeros((501))#Store MSD(t)\n",
    "k=0\n",
    "for ts in u.trajectory:\n",
    "    for i in range(0,884):\n",
    "        dummy=o[i]+hw1[i]+hw2[i]\n",
    "        rt[i]=np.linalg.norm(dummy.center_of_geometry()) #Store the Center of the Water Molecule\n",
    "    if ts.frame==0:\n",
    "        for i in range(0,884):\n",
    "            ro[i]=rt[i] #Storing R_0(t)\n",
    "    for i in range(0,884):\n",
    "        vmsd=rt[i]-ro[i]\n",
    "        msd[k]=msd[k]+vmsd**2 #Computing msd\n",
    "    k=k+1\n",
    "for i in range(0,501):\n",
    "    msd[i]=msd[i]/884\n",
    "x=np.zeros((501))\n",
    "for i in range(0,501):\n",
    "    x[i]=i*0.2 #Here 0.2 is time in ps after which frames has been dumped\n",
    "ax=plt.subplot(111)\n",
    "plt.plot(x,msd)\n",
    "plt.axis([0,500,0,800]\n",
    "#plt.set_xlabel(\"Time(in ps)\")\n",
    "#ax.set_ylabel(\"Mean Square Displacement\")\n",
    "#ax.figure.savefig(\"MSD11_nojump.pdf\")\n",
    "#plt.draw()\n",
    "#Least Square Fitting\n",
    "avx=0\n",
    "avy=0\n",
    "for i in range(0,501):\n",
    "    avx=avx+i*0.2\n",
    "    avy=avy+msd[i]\n",
    "avx=avx/500\n",
    "avy=avy/500\n",
    "m=0 #Slope of the graph\n",
    "k=0\n",
    "for t in range(0,501):\n",
    "    m=m+(t-avx)*(msd[t]-avy)\n",
    "    k=k+((t-avx)**2)\n",
    "m=m/k\n",
    "print(m)"
   ]
  },
  {
   "cell_type": "code",
   "execution_count": 10,
   "metadata": {},
   "outputs": [
    {
     "data": {
      "text/plain": [
       "22026.465794806718"
      ]
     },
     "execution_count": 10,
     "metadata": {},
     "output_type": "execute_result"
    }
   ],
   "source": [
    "import math\n",
    "math.exp(10)\n",
    "np.exp(10)"
   ]
  },
  {
   "cell_type": "code",
   "execution_count": 189,
   "metadata": {},
   "outputs": [
    {
     "data": {
      "text/plain": [
       "<AtomGroup with 884 atoms>"
      ]
     },
     "execution_count": 189,
     "metadata": {},
     "output_type": "execute_result"
    }
   ],
   "source": [
    "o=u.select_atoms(\"name OW\")\n",
    "o"
   ]
  }
 ],
 "metadata": {
  "kernelspec": {
   "display_name": "Python 3",
   "language": "python",
   "name": "python3"
  },
  "language_info": {
   "codemirror_mode": {
    "name": "ipython",
    "version": 3
   },
   "file_extension": ".py",
   "mimetype": "text/x-python",
   "name": "python",
   "nbconvert_exporter": "python",
   "pygments_lexer": "ipython3",
   "version": "3.7.3"
  }
 },
 "nbformat": 4,
 "nbformat_minor": 2
}
