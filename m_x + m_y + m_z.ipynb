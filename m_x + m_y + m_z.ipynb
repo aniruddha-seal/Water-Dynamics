{
 "cells": [
  {
   "cell_type": "code",
   "execution_count": 3,
   "metadata": {},
   "outputs": [
    {
     "ename": "AttributeError",
     "evalue": "'NoneType' object has no attribute 'select_atoms'",
     "output_type": "error",
     "traceback": [
      "\u001b[0;31m---------------------------------------------------------------------------\u001b[0m",
      "\u001b[0;31mAttributeError\u001b[0m                            Traceback (most recent call last)",
      "\u001b[0;32m<ipython-input-3-4ba082bfb7a7>\u001b[0m in \u001b[0;36m<module>\u001b[0;34m\u001b[0m\n\u001b[1;32m      3\u001b[0m \u001b[0;32mimport\u001b[0m \u001b[0mmatplotlib\u001b[0m\u001b[0;34m.\u001b[0m\u001b[0mpyplot\u001b[0m \u001b[0;32mas\u001b[0m \u001b[0mplt\u001b[0m\u001b[0;34m\u001b[0m\u001b[0;34m\u001b[0m\u001b[0m\n\u001b[1;32m      4\u001b[0m \u001b[0mu\u001b[0m\u001b[0;34m=\u001b[0m\u001b[0mmd\u001b[0m\u001b[0;34m.\u001b[0m\u001b[0mUniverse\u001b[0m\u001b[0;34m(\u001b[0m\u001b[0;34m)\u001b[0m\u001b[0;34m\u001b[0m\u001b[0;34m\u001b[0m\u001b[0m\n\u001b[0;32m----> 5\u001b[0;31m \u001b[0mo\u001b[0m\u001b[0;34m=\u001b[0m\u001b[0mu\u001b[0m\u001b[0;34m.\u001b[0m\u001b[0mselect_atoms\u001b[0m\u001b[0;34m(\u001b[0m\u001b[0;34m\"name OW and resid \"\u001b[0m\u001b[0;34m)\u001b[0m\u001b[0;34m\u001b[0m\u001b[0;34m\u001b[0m\u001b[0m\n\u001b[0m\u001b[1;32m      6\u001b[0m \u001b[0mhw1\u001b[0m\u001b[0;34m=\u001b[0m\u001b[0mu\u001b[0m\u001b[0;34m.\u001b[0m\u001b[0mselect_atoms\u001b[0m\u001b[0;34m(\u001b[0m\u001b[0;34m\"name HW1 and resid \"\u001b[0m\u001b[0;34m)\u001b[0m\u001b[0;34m\u001b[0m\u001b[0;34m\u001b[0m\u001b[0m\n\u001b[1;32m      7\u001b[0m \u001b[0mhw2\u001b[0m\u001b[0;34m=\u001b[0m\u001b[0mu\u001b[0m\u001b[0;34m.\u001b[0m\u001b[0mselect_atoms\u001b[0m\u001b[0;34m(\u001b[0m\u001b[0;34m\"name HW2 and resid \"\u001b[0m\u001b[0;34m)\u001b[0m\u001b[0;34m\u001b[0m\u001b[0;34m\u001b[0m\u001b[0m\n",
      "\u001b[0;32m~/anaconda3/lib/python3.7/site-packages/MDAnalysis/core/universe.py\u001b[0m in \u001b[0;36mselect_atoms\u001b[0;34m(self, *args, **kwargs)\u001b[0m\n\u001b[1;32m    695\u001b[0m         \u001b[0;34m:\u001b[0m\u001b[0mmeth\u001b[0m\u001b[0;34m:\u001b[0m\u001b[0;31m`\u001b[0m\u001b[0mMDAnalysis\u001b[0m\u001b[0;34m.\u001b[0m\u001b[0mcore\u001b[0m\u001b[0;34m.\u001b[0m\u001b[0mgroups\u001b[0m\u001b[0;34m.\u001b[0m\u001b[0mAtomGroup\u001b[0m\u001b[0;34m.\u001b[0m\u001b[0mselect_atoms\u001b[0m\u001b[0;31m`\u001b[0m\u001b[0;34m\u001b[0m\u001b[0;34m\u001b[0m\u001b[0m\n\u001b[1;32m    696\u001b[0m         \"\"\"\n\u001b[0;32m--> 697\u001b[0;31m         \u001b[0;32mreturn\u001b[0m \u001b[0mself\u001b[0m\u001b[0;34m.\u001b[0m\u001b[0matoms\u001b[0m\u001b[0;34m.\u001b[0m\u001b[0mselect_atoms\u001b[0m\u001b[0;34m(\u001b[0m\u001b[0;34m*\u001b[0m\u001b[0margs\u001b[0m\u001b[0;34m,\u001b[0m \u001b[0;34m**\u001b[0m\u001b[0mkwargs\u001b[0m\u001b[0;34m)\u001b[0m\u001b[0;34m\u001b[0m\u001b[0;34m\u001b[0m\u001b[0m\n\u001b[0m\u001b[1;32m    698\u001b[0m \u001b[0;34m\u001b[0m\u001b[0m\n\u001b[1;32m    699\u001b[0m     \u001b[0;34m@\u001b[0m\u001b[0mproperty\u001b[0m\u001b[0;34m\u001b[0m\u001b[0;34m\u001b[0m\u001b[0m\n",
      "\u001b[0;31mAttributeError\u001b[0m: 'NoneType' object has no attribute 'select_atoms'"
     ]
    }
   ],
   "source": [
    "import MDAnalysis as md\n",
    "import numpy as np\n",
    "import matplotlib.pyplot as plt\n",
    "u=md.Universe()\n",
    "o=u.select_atoms(\"name OW and resid \")\n",
    "hw1=u.select_atoms(\"name HW1 and resid \")\n",
    "hw2=u.select_atoms(\"name HW2 and resid \")\n",
    "mx=np.zeros(())\n",
    "my=np.zeros(())\n",
    "mz=np.zeros(())\n",
    "for ts in u.trajectory:\n",
    "    dummy=o[i]+o[i]\n",
    "    oc=dummy.center_of_geometry() #Position Vector of O\n",
    "    dummy=hw1[i]+hw1[i]\n",
    "    hw1c=dummy.center_of_geometry() #Position Vector of H1\n",
    "    dummy=hw2[i]+hw2[i]\n",
    "    hw2c=dummy.center_of_geometry() #Position Vector of H2\n",
    "    mu=hw2c+hw1c-2*oc\n",
    "    mu=mu/np.linalg.norm(mu)\n",
    "    k=ts.frame\n",
    "    mx[k]=mu[0]\n",
    "    my[k]=mu[1]\n",
    "    mz[k]=mu[2]\n",
    "ax = plt.subplot(111)\n",
    "ax.plot(t,mx)\n",
    "plt.axis([0,100,-1,1])\n",
    "ax.set_xlabel(\"t\")\n",
    "ax.set_ylabel('m_x')\n",
    "ax.figure.savefig(\"m_x_XXXX.pdf\")\n",
    "plt.draw()\n",
    "ax = plt.subplot(111)\n",
    "ax.plot(t,my)\n",
    "plt.axis([0,100,-1,1])\n",
    "ax.set_xlabel(\"t\")\n",
    "ax.set_ylabel(\"m_y\")\n",
    "ax.figure.savefig(\"m_y_XXXX.pdf\")\n",
    "plt.draw()\n",
    "ax = plt.subplot(111)\n",
    "ax.plot(t,mz)\n",
    "plt.axis([0,100,-1,1])\n",
    "ax.set_xlabel(\"t\")\n",
    "ax.set_ylabel(\"m_z\")\n",
    "ax.figure.savefig(\"m_z_XXXX.pdf\")\n",
    "plt.draw()\n"
   ]
  }
 ],
 "metadata": {
  "kernelspec": {
   "display_name": "Python 3",
   "language": "python",
   "name": "python3"
  },
  "language_info": {
   "codemirror_mode": {
    "name": "ipython",
    "version": 3
   },
   "file_extension": ".py",
   "mimetype": "text/x-python",
   "name": "python",
   "nbconvert_exporter": "python",
   "pygments_lexer": "ipython3",
   "version": "3.7.3"
  }
 },
 "nbformat": 4,
 "nbformat_minor": 2
}
